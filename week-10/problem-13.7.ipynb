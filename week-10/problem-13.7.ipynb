{
 "cells": [
  {
   "cell_type": "markdown",
   "id": "1181ac5b",
   "metadata": {},
   "source": [
    "# 13.7 REPRESSILATOR\n",
    "\n",
    "Use this notebook to store your work for this problem."
   ]
  },
  {
   "cell_type": "markdown",
   "id": "cbee04a0",
   "metadata": {},
   "source": [
    "## (a) 1D Projection\n",
    "\n",
    "Solve the equations of motion for the intial conditions given in the problem, and then plot $\\bar{c}_{m_A}(\\bar{t})$."
   ]
  },
  {
   "cell_type": "code",
   "execution_count": null,
   "id": "df00f8ab",
   "metadata": {},
   "outputs": [],
   "source": []
  },
  {
   "cell_type": "markdown",
   "id": "5d176c52",
   "metadata": {},
   "source": [
    "## (b) 3D Projection\n",
    "\n",
    "Make a 3D projection of your solution, where\n",
    "$$\n",
    "x = \\bar{c}_{m_A}(\\bar{t})\n",
    "\\qquad\n",
    "y = \\bar{c}_{m_B}(\\bar{t})\n",
    "\\qquad\n",
    "z = \\bar{c}_{m_C}(\\bar{t})\n",
    "\\qquad\n",
    "$$"
   ]
  },
  {
   "cell_type": "code",
   "execution_count": null,
   "id": "38da16ca",
   "metadata": {},
   "outputs": [],
   "source": []
  },
  {
   "cell_type": "markdown",
   "id": "65012e21",
   "metadata": {},
   "source": [
    "## (c) Movie\n",
    "\n",
    "Animate your plot from (b)."
   ]
  },
  {
   "cell_type": "code",
   "execution_count": null,
   "id": "6b327211",
   "metadata": {},
   "outputs": [],
   "source": []
  },
  {
   "cell_type": "markdown",
   "id": "9425b313",
   "metadata": {},
   "source": [
    "## (d) Fixed Point\n",
    "\n",
    "Find the attracting fixed point of this system."
   ]
  },
  {
   "cell_type": "code",
   "execution_count": null,
   "id": "4302ef40",
   "metadata": {},
   "outputs": [],
   "source": []
  }
 ],
 "metadata": {
  "kernelspec": {
   "display_name": "Python 3",
   "language": "python",
   "name": "python3"
  },
  "language_info": {
   "codemirror_mode": {
    "name": "ipython",
    "version": 3
   },
   "file_extension": ".py",
   "mimetype": "text/x-python",
   "name": "python",
   "nbconvert_exporter": "python",
   "pygments_lexer": "ipython3",
   "version": "3.9.5"
  }
 },
 "nbformat": 4,
 "nbformat_minor": 5
}
