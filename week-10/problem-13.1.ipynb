{
 "cells": [
  {
   "cell_type": "markdown",
   "id": "014e2bd5",
   "metadata": {},
   "source": [
    "# 13.1 NONLINEAR OSCILLATIONS\n",
    "\n",
    "Use this notebook to store your work for this problem."
   ]
  },
  {
   "cell_type": "markdown",
   "id": "5610b9f6",
   "metadata": {},
   "source": [
    "## Nondimensional Equations of Motion\n",
    "\n",
    "Use the substitution suggested in the text to create nondimensional versions of Equations 13.1 and 13.2."
   ]
  },
  {
   "cell_type": "markdown",
   "id": "cb5dcd3b",
   "metadata": {},
   "source": [
    "***Replace with your work.***"
   ]
  },
  {
   "cell_type": "markdown",
   "id": "b2376df7",
   "metadata": {},
   "source": [
    "## Phase Portrait & Streamlines\n",
    "\n",
    "Draw the phase portrait in the $\\theta-\\Delta \\bar{m}$ plane.  Add 3–5 streamlines.  Be sure to include some for small amplitude and large amplitude initial conditions, and discuss how small and large amplitude behavior is different."
   ]
  },
  {
   "cell_type": "code",
   "execution_count": null,
   "id": "29aa438c",
   "metadata": {},
   "outputs": [],
   "source": []
  },
  {
   "cell_type": "markdown",
   "id": "203491d3",
   "metadata": {},
   "source": [
    "***Replace with your comments.***"
   ]
  }
 ],
 "metadata": {
  "kernelspec": {
   "display_name": "Python 3",
   "language": "python",
   "name": "python3"
  },
  "language_info": {
   "codemirror_mode": {
    "name": "ipython",
    "version": 3
   },
   "file_extension": ".py",
   "mimetype": "text/x-python",
   "name": "python",
   "nbconvert_exporter": "python",
   "pygments_lexer": "ipython3",
   "version": "3.9.5"
  }
 },
 "nbformat": 4,
 "nbformat_minor": 5
}
