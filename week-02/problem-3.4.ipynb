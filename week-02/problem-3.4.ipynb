{
 "cells": [
  {
   "cell_type": "markdown",
   "metadata": {},
   "source": [
    "# Problem 3.4\n",
    "\n",
    "This problem explores the \"Gambler's Fallacy\" --- the idea that after a string of losses, you are \"due\" for a win.\n",
    "\n",
    "We will represent __heads__ by $+1$ and __tails__ by $-1$.  The variable $X$ is the sum of ten such flips of a coin: the number of heads minus the number of tails."
   ]
  },
  {
   "cell_type": "code",
   "execution_count": 1,
   "metadata": {},
   "outputs": [],
   "source": [
    "# Standard setup\n",
    "import numpy as np\n",
    "import matplotlib.pyplot as plt\n",
    "\n",
    "# Get a random number generator.\n",
    "from numpy.random import default_rng\n",
    "rng = default_rng()\n",
    "rand = rng.random"
   ]
  },
  {
   "cell_type": "markdown",
   "metadata": {},
   "source": [
    "Verify that the following code generates a sequence of 10 flips, as described in the problem.  Briefly explain how it works.\n",
    "\n",
    "-----"
   ]
  },
  {
   "cell_type": "code",
   "execution_count": 2,
   "metadata": {},
   "outputs": [
    {
     "name": "stdout",
     "output_type": "stream",
     "text": [
      "Coin flips:  [-1 -1 -1 -1 -1 -1 -1  1 -1  1]\n",
      "Sum: X= -6\n"
     ]
    }
   ],
   "source": [
    "flips = 2*(rand(10) < 0.5) - 1\n",
    "X = flips.sum()\n",
    "\n",
    "print(\"Coin flips: \", flips)\n",
    "print(\"Sum: X=\", X)"
   ]
  },
  {
   "cell_type": "markdown",
   "metadata": {},
   "source": [
    "The first line is generating 10 random numbers between 0 and 1 then comparing them to 0.5, turning them into boolean true/false or 0 and 1 values.  Then we multiply by 2 to get either 0 or 2 as a value.  Finally 1 is subtracted from the 0's or 2's so we end up with -1 or 1 as a result.\n",
    "\n",
    "This block of code is also summing the entire array."
   ]
  },
  {
   "cell_type": "markdown",
   "metadata": {},
   "source": [
    "------\n",
    "\n",
    "## (a)\n",
    "\n",
    "Fill in the necessary Python code below."
   ]
  },
  {
   "cell_type": "code",
   "execution_count": 22,
   "metadata": {},
   "outputs": [
    {
     "name": "stdout",
     "output_type": "stream",
     "text": [
      "[-1  1  1  1 -1  1  1  1 -1 -1]\n",
      "[-1  1  1  1 -1]\n"
     ]
    }
   ],
   "source": [
    "comparison = [0,0,0,0,0]\n",
    "flips = 2*(rand(10) < 0.5) - 1\n",
    "X = flips.sum()\n",
    "flips_length = len(flips)\n",
    "comparison = np.delete(flips, np.s_[5:])\n",
    "print(flips)\n",
    "print(comparison)"
   ]
  },
  {
   "cell_type": "code",
   "execution_count": 63,
   "metadata": {},
   "outputs": [
    {
     "name": "stdout",
     "output_type": "stream",
     "text": [
      "There were 4 trials that started with 5 heads.\n",
      "The average of X for these trials was <X>= 6.5000.\n"
     ]
    }
   ],
   "source": [
    "# Define the problem.\n",
    "Ntrials = 200\n",
    "Nflips = 10\n",
    "Nstart = 5\n",
    "i = [1,1,1,1,1]\n",
    "comparison = [0,0,0,0,0]\n",
    "# Create an array to store the data we want.\n",
    "data = np.zeros(Ntrials)\n",
    "count = 0\n",
    "\n",
    "# Generate Ntrials sequences of Nflips coin flips, and sum.\n",
    "for n in range(Ntrials):\n",
    "    flips = 2*(rand(Nflips) < 0.5) - 1\n",
    "    X = flips.sum()\n",
    "    comparison = np.delete(flips, np.s_[5:])\n",
    "    # Replace \"if True:\" with a conditional statement that will do the following.\n",
    "    #    IF the first Nstart flips are heads, store X in \"data\" and increment \"count\".\n",
    "    #    OTHERWISE, do nothing and continue to the next trial.\n",
    "    if np.array_equal(comparison,i):\n",
    "        data[count] = X\n",
    "        count += 1\n",
    "\n",
    "# Now use the data set to answer the question.\n",
    "if count == 0:\n",
    "    print(\"No trials started with {} heads.\".format(Nstart))\n",
    "else:\n",
    "    avgX = data[:count].sum() / count\n",
    "    print (\"There were {} trials that started with {} heads.\".format(count,Nstart))\n",
    "    print(\"The average of X for these trials was <X>= {:.4f}.\".format(avgX))\n"
   ]
  },
  {
   "cell_type": "markdown",
   "metadata": {},
   "source": [
    "Run your code several times.  What patterns do you observe?\n",
    "\n",
    "-----"
   ]
  },
  {
   "cell_type": "markdown",
   "metadata": {},
   "source": [
    "There's generally 2 to 6 cases out of 200 where it begins with 5 heads.  It doesn't appear that the value is trending towards 0 whether it's 2 cases of 5 heads, or 11."
   ]
  },
  {
   "cell_type": "markdown",
   "metadata": {},
   "source": [
    "-----\n",
    "\n",
    "## (b)\n",
    "\n",
    "Repeat for `Ntrials = 2000` and `Ntrials = 8000`.\n",
    "\n",
    "> Does the answer seem to be converging to zero, as predicted in the quoted text above? Whatever your answer, give some explanation for why the answer you found should have been expected.\n",
    "\n",
    "-----"
   ]
  },
  {
   "cell_type": "markdown",
   "metadata": {},
   "source": [
    "The answer doesn't seem to be converging to zero, in fact it seems the exact same as the 200 trial experiment.  This makes sense to me, as there's no reason to believe or expect that it would trend towards 0.  Every trial is independent of one another, there isn't some overarching force that will cause you to flip tails more often than heads."
   ]
  },
  {
   "cell_type": "markdown",
   "metadata": {},
   "source": [
    "-----\n",
    "\n",
    "## (c)\n",
    "\n",
    "Explore regression to the mean, as described in the problem text."
   ]
  },
  {
   "cell_type": "code",
   "execution_count": 65,
   "metadata": {},
   "outputs": [
    {
     "name": "stdout",
     "output_type": "stream",
     "text": [
      "There were 1606 trials that started with 5 heads.\n",
      "The average of X for these trials was <X>= 4.0697.\n"
     ]
    }
   ],
   "source": [
    "Ntrials = 50000\n",
    "Nflips = 500\n",
    "Nstart = 5\n",
    "i = [1,1,1,1,1]\n",
    "comparison = [0,0,0,0,0]\n",
    "# Create an array to store the data we want.\n",
    "data = np.zeros(Ntrials)\n",
    "count = 0\n",
    "\n",
    "# Generate Ntrials sequences of Nflips coin flips, and sum.\n",
    "for n in range(Ntrials):\n",
    "    flips = 2*(rand(Nflips) < 0.5) - 1\n",
    "    X = flips.sum()\n",
    "    comparison = np.delete(flips, np.s_[5:])\n",
    "    # Replace \"if True:\" with a conditional statement that will do the following.\n",
    "    #    IF the first Nstart flips are heads, store X in \"data\" and increment \"count\".\n",
    "    #    OTHERWISE, do nothing and continue to the next trial.\n",
    "    if np.array_equal(comparison,i):\n",
    "        data[count] = X\n",
    "        count += 1\n",
    "\n",
    "# Now use the data set to answer the question.\n",
    "if count == 0:\n",
    "    print(\"No trials started with {} heads.\".format(Nstart))\n",
    "else:\n",
    "    avgX = data[:count].sum() / count\n",
    "    print (\"There were {} trials that started with {} heads.\".format(count,Nstart))\n",
    "    print(\"The average of X for these trials was <X>= {:.4f}.\".format(avgX))"
   ]
  },
  {
   "cell_type": "markdown",
   "metadata": {},
   "source": [
    "Comment on your observations.\n",
    "\n",
    "-----"
   ]
  },
  {
   "cell_type": "markdown",
   "metadata": {},
   "source": [
    "I don't really see much of a difference between this and the earlier parts of the problems.  Increasing the number of trials and flips is still resulting in similar values overall, which makes sense to me.  I don't see any good reason to believe that since a trial started with 5 heads that there is an increased chance of the following flips being tails.\n",
    "\n",
    "I understand the term Gamblers Fallacy and it makes a lot more sense looking at it in this context.  I've been playing chance based games before and believe my 'good luck' or 'bad luck' would be offset by the other.  However, there's no reason to believe that's actually the case."
   ]
  },
  {
   "cell_type": "markdown",
   "metadata": {},
   "source": [
    "-----\n",
    "\n",
    "## (d)\n",
    "\n",
    "Evaluate the ___spread___ of $X$ for large numbers of trials, as described in the text."
   ]
  },
  {
   "cell_type": "code",
   "execution_count": 69,
   "metadata": {},
   "outputs": [
    {
     "name": "stdout",
     "output_type": "stream",
     "text": [
      "There were 1534 trials that started with 5 heads.\n",
      "The average of X for these trials was <X>= 4.2008.\n"
     ]
    }
   ],
   "source": [
    "Ntrials = 50000\n",
    "Nflips = 2500\n",
    "Nstart = 5\n",
    "i = [1,1,1,1,1]\n",
    "comparison = [0,0,0,0,0]\n",
    "# Create an array to store the data we want.\n",
    "data = np.zeros(Ntrials)\n",
    "count = 0\n",
    "\n",
    "# Generate Ntrials sequences of Nflips coin flips, and sum.\n",
    "for n in range(Ntrials):\n",
    "    flips = 2*(rand(Nflips) < 0.5) - 1\n",
    "    X = flips.sum()\n",
    "    comparison = np.delete(flips, np.s_[5:])\n",
    "    # Replace \"if True:\" with a conditional statement that will do the following.\n",
    "    #    IF the first Nstart flips are heads, store X in \"data\" and increment \"count\".\n",
    "    #    OTHERWISE, do nothing and continue to the next trial.\n",
    "    if np.array_equal(comparison,i):\n",
    "        data[count] = X\n",
    "        count += 1\n",
    "\n",
    "# Now use the data set to answer the question.\n",
    "if count == 0:\n",
    "    print(\"No trials started with {} heads.\".format(Nstart))\n",
    "else:\n",
    "    avgX = data[:count].sum() / count\n",
    "    print (\"There were {} trials that started with {} heads.\".format(count,Nstart))\n",
    "    print(\"The average of X for these trials was <X>= {:.4f}.\".format(avgX))"
   ]
  },
  {
   "cell_type": "code",
   "execution_count": 70,
   "metadata": {},
   "outputs": [
    {
     "data": {
      "text/plain": [
       "0.3964543818335217"
      ]
     },
     "execution_count": 70,
     "metadata": {},
     "output_type": "execute_result"
    }
   ],
   "source": [
    "X = [4.9452, 5.2692, 4.6101, 4.2008 ]\n",
    "np.std(X)"
   ]
  },
  {
   "cell_type": "markdown",
   "metadata": {},
   "source": [
    "Comment on your observations.\n",
    "\n",
    "-----"
   ]
  },
  {
   "cell_type": "markdown",
   "metadata": {},
   "source": []
  },
  {
   "cell_type": "markdown",
   "metadata": {},
   "source": [
    "_____\n",
    "\n",
    "## (e)\n",
    "\n",
    "Discuss which proposition better describes your findings.\n",
    "\n",
    "> If the first N flips are heads, the next series flips will be more than half tails, in order to pull X closer to zero, because X ‘wants’ to be zero on average.\n",
    "\n",
    "... or ...\n",
    "\n",
    "> The effect of unusual past behavior doesn’t disappear; it just gets diluted as time goes on.\n",
    "\n",
    "-----"
   ]
  },
  {
   "cell_type": "markdown",
   "metadata": {},
   "source": [
    "The second statement is far more appropriate.  There isn't some force acting upon these coin flips that makes it more likely to flip heads or tails based on the previous flip.  Instead there will be trials that end up with more heads and trials that end up with more tails.  Ultimately these abnormal runs will be diluted as we run more and more trials."
   ]
  }
 ],
 "metadata": {
  "kernelspec": {
   "display_name": "Python 3",
   "language": "python",
   "name": "python3"
  },
  "language_info": {
   "codemirror_mode": {
    "name": "ipython",
    "version": 3
   },
   "file_extension": ".py",
   "mimetype": "text/x-python",
   "name": "python",
   "nbconvert_exporter": "python",
   "pygments_lexer": "ipython3",
   "version": "3.8.5"
  }
 },
 "nbformat": 4,
 "nbformat_minor": 5
}
