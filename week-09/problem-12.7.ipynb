{
 "cells": [
  {
   "cell_type": "markdown",
   "id": "014e2bd5",
   "metadata": {},
   "source": [
    "# 12.7 TOGGLE STREAMLINES\n",
    "\n",
    "Use this notebook to store your work for this problem."
   ]
  },
  {
   "cell_type": "markdown",
   "id": "5610b9f6",
   "metadata": {},
   "source": [
    "## (a) Nondimensionalize Equation 12.16"
   ]
  },
  {
   "cell_type": "markdown",
   "id": "eb60ebad",
   "metadata": {},
   "source": [
    "***Replace with your work.***"
   ]
  },
  {
   "cell_type": "markdown",
   "id": "377db16d",
   "metadata": {},
   "source": [
    "## (b)  Plot streamlines\n",
    "\n",
    "You should choose at least 4 pairs of initial concentrations $[\\bar{c}_1(0), \\bar{c}_2(0)]$ to illustrate what happens in all 4 quadrants of your phase portrait."
   ]
  },
  {
   "cell_type": "code",
   "execution_count": null,
   "id": "9f51aa34",
   "metadata": {},
   "outputs": [],
   "source": []
  },
  {
   "cell_type": "markdown",
   "id": "95c7c3aa",
   "metadata": {},
   "source": [
    "***Replace with your comments.***"
   ]
  }
 ],
 "metadata": {
  "kernelspec": {
   "display_name": "Python 3",
   "language": "python",
   "name": "python3"
  },
  "language_info": {
   "codemirror_mode": {
    "name": "ipython",
    "version": 3
   },
   "file_extension": ".py",
   "mimetype": "text/x-python",
   "name": "python",
   "nbconvert_exporter": "python",
   "pygments_lexer": "ipython3",
   "version": "3.9.5"
  }
 },
 "nbformat": 4,
 "nbformat_minor": 5
}
