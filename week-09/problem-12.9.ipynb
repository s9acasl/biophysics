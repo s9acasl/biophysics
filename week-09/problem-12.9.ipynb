{
 "cells": [
  {
   "cell_type": "markdown",
   "id": "1181ac5b",
   "metadata": {},
   "source": [
    "# 12.9 BIFURCATION IN THE SINGLE-GENE TOGGLE\n",
    "\n",
    "***This problem is only required for graduate and Honors students.***\n",
    "\n",
    "Use this notebook to store your work for this problem."
   ]
  },
  {
   "cell_type": "markdown",
   "id": "aa1b6d47",
   "metadata": {},
   "source": [
    "## Reproduce Figure 12.26(a).\n",
    "\n",
    "Make a plot that resembles the figure.  Indicate the points of intersection with markers that are a different color than the intersecting lines, and create at least one line that intersects the curve in three places."
   ]
  },
  {
   "cell_type": "code",
   "execution_count": null,
   "id": "5c7ab61b",
   "metadata": {},
   "outputs": [],
   "source": []
  },
  {
   "cell_type": "markdown",
   "id": "5e9f8e93",
   "metadata": {},
   "source": [
    "## Find the bifurcations.\n",
    "\n",
    "Use trial and error or a numerical solver to find th ecritical values of $M$ when bifurcations occur — when you go from having a single point of intersection to three."
   ]
  },
  {
   "cell_type": "code",
   "execution_count": null,
   "id": "868475e7",
   "metadata": {},
   "outputs": [],
   "source": []
  }
 ],
 "metadata": {
  "kernelspec": {
   "display_name": "Python 3",
   "language": "python",
   "name": "python3"
  },
  "language_info": {
   "codemirror_mode": {
    "name": "ipython",
    "version": 3
   },
   "file_extension": ".py",
   "mimetype": "text/x-python",
   "name": "python",
   "nbconvert_exporter": "python",
   "pygments_lexer": "ipython3",
   "version": "3.9.5"
  }
 },
 "nbformat": 4,
 "nbformat_minor": 5
}
