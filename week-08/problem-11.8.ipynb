{
 "cells": [
  {
   "cell_type": "markdown",
   "id": "743bf2c1",
   "metadata": {},
   "source": [
    "# 11.8 OVER- AND UNDERDAMPING\n",
    "\n",
    "***This problem is only required for graduate and Honors students.***\n",
    "\n",
    "Use this notebook to store your work for this problem."
   ]
  },
  {
   "cell_type": "markdown",
   "id": "e5d5a1b3",
   "metadata": {},
   "source": [
    "## (a) Dimensional analysis\n",
    "\n",
    "- What combination of $m$, $g$, and $\\zeta$ defines the timescale $T$?"
   ]
  },
  {
   "cell_type": "markdown",
   "id": "11ff834c",
   "metadata": {},
   "source": [
    "***Replace with your work and comments.***"
   ]
  },
  {
   "cell_type": "markdown",
   "id": "0c34c3b7",
   "metadata": {},
   "source": [
    "- What does the differential equation look like when we rescale $t$ by $T$?"
   ]
  },
  {
   "cell_type": "markdown",
   "id": "e71b9485",
   "metadata": {},
   "source": [
    "***Replace with your work and comments.***"
   ]
  },
  {
   "cell_type": "markdown",
   "id": "05140c1e",
   "metadata": {},
   "source": [
    "- What does the differential equation look like when we make the small angle approximation $\\sin \\theta \\approx \\theta$?"
   ]
  },
  {
   "cell_type": "markdown",
   "id": "c95f23a4",
   "metadata": {},
   "source": [
    "***Replace with your work and comments.***"
   ]
  },
  {
   "cell_type": "markdown",
   "id": "6cd8bb45",
   "metadata": {},
   "source": [
    "- What is the solution of this approximate differential equation?"
   ]
  },
  {
   "cell_type": "markdown",
   "id": "13b53e0f",
   "metadata": {},
   "source": [
    "***Replace with your work and comments.***"
   ]
  },
  {
   "cell_type": "markdown",
   "id": "155b214b",
   "metadata": {},
   "source": [
    "## (b) Classify solutions\n",
    "\n",
    "What criterion determines whether solutions will overshoot the stable point or not?"
   ]
  },
  {
   "cell_type": "markdown",
   "id": "5d7b91a8",
   "metadata": {},
   "source": [
    "***Replace with your work and comments.***"
   ]
  },
  {
   "cell_type": "markdown",
   "id": "15efa967",
   "metadata": {},
   "source": [
    "## (c)  Phase portrait\n",
    "\n",
    "Make a phase portrait of the system, as in Problem 11.5, but for values of $g/L$ and $\\zeta/m$ that corresond to the condition you identified in part (b)."
   ]
  },
  {
   "cell_type": "code",
   "execution_count": null,
   "id": "76231ec1",
   "metadata": {},
   "outputs": [],
   "source": []
  },
  {
   "cell_type": "markdown",
   "id": "060ac9a6",
   "metadata": {},
   "source": [
    "## BONUS\n",
    "\n",
    "Better still, make three different phase portraits illustrating all three types of behavior:\n",
    "\n",
    "- Underdamped\n",
    "- Critically damped\n",
    "- Overdamped\n",
    "\n",
    "Neatness counts.  Make your plots as nice as possible."
   ]
  },
  {
   "cell_type": "code",
   "execution_count": null,
   "id": "6458b853",
   "metadata": {},
   "outputs": [],
   "source": []
  }
 ],
 "metadata": {
  "kernelspec": {
   "display_name": "Python 3",
   "language": "python",
   "name": "python3"
  },
  "language_info": {
   "codemirror_mode": {
    "name": "ipython",
    "version": 3
   },
   "file_extension": ".py",
   "mimetype": "text/x-python",
   "name": "python",
   "nbconvert_exporter": "python",
   "pygments_lexer": "ipython3",
   "version": "3.9.5"
  }
 },
 "nbformat": 4,
 "nbformat_minor": 5
}
