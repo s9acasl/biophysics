{
 "cells": [
  {
   "cell_type": "markdown",
   "id": "014e2bd5",
   "metadata": {},
   "source": [
    "# 11.6 NUMERICAL SOLUTION OF PHASE-PORTRAIT EQUATIONS\n",
    "\n",
    "Use this notebook to store your work for this problem."
   ]
  },
  {
   "cell_type": "markdown",
   "id": "5610b9f6",
   "metadata": {},
   "source": [
    "Plot at least 4 different solutions for initial values of $(\\theta, \\omega)$ on top of your streamline plot from Problem 11.5.\n",
    "\n",
    "Neatness counts!  Make the plot look as nice as you can."
   ]
  },
  {
   "cell_type": "code",
   "execution_count": null,
   "id": "25dd5dae",
   "metadata": {},
   "outputs": [],
   "source": []
  }
 ],
 "metadata": {
  "kernelspec": {
   "display_name": "Python 3",
   "language": "python",
   "name": "python3"
  },
  "language_info": {
   "codemirror_mode": {
    "name": "ipython",
    "version": 3
   },
   "file_extension": ".py",
   "mimetype": "text/x-python",
   "name": "python",
   "nbconvert_exporter": "python",
   "pygments_lexer": "ipython3",
   "version": "3.9.5"
  }
 },
 "nbformat": 4,
 "nbformat_minor": 5
}
